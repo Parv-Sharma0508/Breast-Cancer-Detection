{
 "cells": [
  {
   "cell_type": "markdown",
   "id": "fc14611d",
   "metadata": {},
   "source": [
    "## Data Collection\n"
   ]
  },
  {
   "cell_type": "code",
   "execution_count": 2,
   "id": "e360da9c",
   "metadata": {},
   "outputs": [],
   "source": [
    "from sklearn.datasets import load_breast_cancer"
   ]
  },
  {
   "cell_type": "code",
   "execution_count": 3,
   "id": "5d3f2064",
   "metadata": {},
   "outputs": [],
   "source": [
    "dataset=load_breast_cancer()"
   ]
  },
  {
   "cell_type": "code",
   "execution_count": 4,
   "id": "8b457a16",
   "metadata": {},
   "outputs": [
    {
     "data": {
      "text/plain": [
       "dict_keys(['data', 'target', 'frame', 'target_names', 'DESCR', 'feature_names', 'filename'])"
      ]
     },
     "execution_count": 4,
     "metadata": {},
     "output_type": "execute_result"
    }
   ],
   "source": [
    "dataset.keys()"
   ]
  },
  {
   "cell_type": "markdown",
   "id": "5cad2456",
   "metadata": {},
   "source": [
    "## Description of Dataset"
   ]
  },
  {
   "cell_type": "code",
   "execution_count": 5,
   "id": "e3f57a2b",
   "metadata": {},
   "outputs": [
    {
     "name": "stdout",
     "output_type": "stream",
     "text": [
      ".. _breast_cancer_dataset:\n",
      "\n",
      "Breast cancer wisconsin (diagnostic) dataset\n",
      "--------------------------------------------\n",
      "\n",
      "**Data Set Characteristics:**\n",
      "\n",
      "    :Number of Instances: 569\n",
      "\n",
      "    :Number of Attributes: 30 numeric, predictive attributes and the class\n",
      "\n",
      "    :Attribute Information:\n",
      "        - radius (mean of distances from center to points on the perimeter)\n",
      "        - texture (standard deviation of gray-scale values)\n",
      "        - perimeter\n",
      "        - area\n",
      "        - smoothness (local variation in radius lengths)\n",
      "        - compactness (perimeter^2 / area - 1.0)\n",
      "        - concavity (severity of concave portions of the contour)\n",
      "        - concave points (number of concave portions of the contour)\n",
      "        - symmetry\n",
      "        - fractal dimension (\"coastline approximation\" - 1)\n",
      "\n",
      "        The mean, standard error, and \"worst\" or largest (mean of the three\n",
      "        worst/largest values) of these features were computed for each image,\n",
      "        resulting in 30 features.  For instance, field 0 is Mean Radius, field\n",
      "        10 is Radius SE, field 20 is Worst Radius.\n",
      "\n",
      "        - class:\n",
      "                - WDBC-Malignant\n",
      "                - WDBC-Benign\n",
      "\n",
      "    :Summary Statistics:\n",
      "\n",
      "    ===================================== ====== ======\n",
      "                                           Min    Max\n",
      "    ===================================== ====== ======\n",
      "    radius (mean):                        6.981  28.11\n",
      "    texture (mean):                       9.71   39.28\n",
      "    perimeter (mean):                     43.79  188.5\n",
      "    area (mean):                          143.5  2501.0\n",
      "    smoothness (mean):                    0.053  0.163\n",
      "    compactness (mean):                   0.019  0.345\n",
      "    concavity (mean):                     0.0    0.427\n",
      "    concave points (mean):                0.0    0.201\n",
      "    symmetry (mean):                      0.106  0.304\n",
      "    fractal dimension (mean):             0.05   0.097\n",
      "    radius (standard error):              0.112  2.873\n",
      "    texture (standard error):             0.36   4.885\n",
      "    perimeter (standard error):           0.757  21.98\n",
      "    area (standard error):                6.802  542.2\n",
      "    smoothness (standard error):          0.002  0.031\n",
      "    compactness (standard error):         0.002  0.135\n",
      "    concavity (standard error):           0.0    0.396\n",
      "    concave points (standard error):      0.0    0.053\n",
      "    symmetry (standard error):            0.008  0.079\n",
      "    fractal dimension (standard error):   0.001  0.03\n",
      "    radius (worst):                       7.93   36.04\n",
      "    texture (worst):                      12.02  49.54\n",
      "    perimeter (worst):                    50.41  251.2\n",
      "    area (worst):                         185.2  4254.0\n",
      "    smoothness (worst):                   0.071  0.223\n",
      "    compactness (worst):                  0.027  1.058\n",
      "    concavity (worst):                    0.0    1.252\n",
      "    concave points (worst):               0.0    0.291\n",
      "    symmetry (worst):                     0.156  0.664\n",
      "    fractal dimension (worst):            0.055  0.208\n",
      "    ===================================== ====== ======\n",
      "\n",
      "    :Missing Attribute Values: None\n",
      "\n",
      "    :Class Distribution: 212 - Malignant, 357 - Benign\n",
      "\n",
      "    :Creator:  Dr. William H. Wolberg, W. Nick Street, Olvi L. Mangasarian\n",
      "\n",
      "    :Donor: Nick Street\n",
      "\n",
      "    :Date: November, 1995\n",
      "\n",
      "This is a copy of UCI ML Breast Cancer Wisconsin (Diagnostic) datasets.\n",
      "https://goo.gl/U2Uwz2\n",
      "\n",
      "Features are computed from a digitized image of a fine needle\n",
      "aspirate (FNA) of a breast mass.  They describe\n",
      "characteristics of the cell nuclei present in the image.\n",
      "\n",
      "Separating plane described above was obtained using\n",
      "Multisurface Method-Tree (MSM-T) [K. P. Bennett, \"Decision Tree\n",
      "Construction Via Linear Programming.\" Proceedings of the 4th\n",
      "Midwest Artificial Intelligence and Cognitive Science Society,\n",
      "pp. 97-101, 1992], a classification method which uses linear\n",
      "programming to construct a decision tree.  Relevant features\n",
      "were selected using an exhaustive search in the space of 1-4\n",
      "features and 1-3 separating planes.\n",
      "\n",
      "The actual linear program used to obtain the separating plane\n",
      "in the 3-dimensional space is that described in:\n",
      "[K. P. Bennett and O. L. Mangasarian: \"Robust Linear\n",
      "Programming Discrimination of Two Linearly Inseparable Sets\",\n",
      "Optimization Methods and Software 1, 1992, 23-34].\n",
      "\n",
      "This database is also available through the UW CS ftp server:\n",
      "\n",
      "ftp ftp.cs.wisc.edu\n",
      "cd math-prog/cpo-dataset/machine-learn/WDBC/\n",
      "\n",
      ".. topic:: References\n",
      "\n",
      "   - W.N. Street, W.H. Wolberg and O.L. Mangasarian. Nuclear feature extraction \n",
      "     for breast tumor diagnosis. IS&T/SPIE 1993 International Symposium on \n",
      "     Electronic Imaging: Science and Technology, volume 1905, pages 861-870,\n",
      "     San Jose, CA, 1993.\n",
      "   - O.L. Mangasarian, W.N. Street and W.H. Wolberg. Breast cancer diagnosis and \n",
      "     prognosis via linear programming. Operations Research, 43(4), pages 570-577, \n",
      "     July-August 1995.\n",
      "   - W.H. Wolberg, W.N. Street, and O.L. Mangasarian. Machine learning techniques\n",
      "     to diagnose breast cancer from fine-needle aspirates. Cancer Letters 77 (1994) \n",
      "     163-171.\n"
     ]
    }
   ],
   "source": [
    "print(dataset['DESCR'])"
   ]
  },
  {
   "cell_type": "code",
   "execution_count": 6,
   "id": "4578241d",
   "metadata": {},
   "outputs": [
    {
     "data": {
      "text/plain": [
       "(569, 30)"
      ]
     },
     "execution_count": 6,
     "metadata": {},
     "output_type": "execute_result"
    }
   ],
   "source": [
    "dataset['data'].shape"
   ]
  },
  {
   "cell_type": "markdown",
   "id": "910ec91a",
   "metadata": {},
   "source": [
    "## Attributes or properties of a cancerous cell"
   ]
  },
  {
   "cell_type": "code",
   "execution_count": 7,
   "id": "9b88522e",
   "metadata": {},
   "outputs": [
    {
     "data": {
      "text/plain": [
       "array(['mean radius', 'mean texture', 'mean perimeter', 'mean area',\n",
       "       'mean smoothness', 'mean compactness', 'mean concavity',\n",
       "       'mean concave points', 'mean symmetry', 'mean fractal dimension',\n",
       "       'radius error', 'texture error', 'perimeter error', 'area error',\n",
       "       'smoothness error', 'compactness error', 'concavity error',\n",
       "       'concave points error', 'symmetry error',\n",
       "       'fractal dimension error', 'worst radius', 'worst texture',\n",
       "       'worst perimeter', 'worst area', 'worst smoothness',\n",
       "       'worst compactness', 'worst concavity', 'worst concave points',\n",
       "       'worst symmetry', 'worst fractal dimension'], dtype='<U23')"
      ]
     },
     "execution_count": 7,
     "metadata": {},
     "output_type": "execute_result"
    }
   ],
   "source": [
    "dataset['feature_names']"
   ]
  },
  {
   "cell_type": "markdown",
   "id": "1bcb3edd",
   "metadata": {},
   "source": [
    "## Data of one breast cancer cell"
   ]
  },
  {
   "cell_type": "code",
   "execution_count": 8,
   "id": "15199987",
   "metadata": {},
   "outputs": [
    {
     "name": "stdout",
     "output_type": "stream",
     "text": [
      "mean radius = 20.57\n",
      "mean texture = 17.77\n",
      "mean perimeter = 132.9\n",
      "mean area = 1326.0\n",
      "mean smoothness = 0.08474\n",
      "mean compactness = 0.07864\n",
      "mean concavity = 0.0869\n",
      "mean concave points = 0.07017\n",
      "mean symmetry = 0.1812\n",
      "mean fractal dimension = 0.05667\n",
      "radius error = 0.5435\n",
      "texture error = 0.7339\n",
      "perimeter error = 3.398\n",
      "area error = 74.08\n",
      "smoothness error = 0.005225\n",
      "compactness error = 0.01308\n",
      "concavity error = 0.0186\n",
      "concave points error = 0.0134\n",
      "symmetry error = 0.01389\n",
      "fractal dimension error = 0.003532\n",
      "worst radius = 24.99\n",
      "worst texture = 23.41\n",
      "worst perimeter = 158.8\n",
      "worst area = 1956.0\n",
      "worst smoothness = 0.1238\n",
      "worst compactness = 0.1866\n",
      "worst concavity = 0.2416\n",
      "worst concave points = 0.186\n",
      "worst symmetry = 0.275\n",
      "worst fractal dimension = 0.08902\n"
     ]
    }
   ],
   "source": [
    "j=0\n",
    "for i in dataset['feature_names']:\n",
    "    print(i,\"=\",dataset['data'][1][j])\n",
    "    j+=1"
   ]
  },
  {
   "cell_type": "code",
   "execution_count": 9,
   "id": "456a4e1d",
   "metadata": {},
   "outputs": [],
   "source": [
    "features=dataset['data']"
   ]
  },
  {
   "cell_type": "code",
   "execution_count": 10,
   "id": "c76f01c1",
   "metadata": {},
   "outputs": [
    {
     "data": {
      "text/plain": [
       "array([[1.799e+01, 1.038e+01, 1.228e+02, ..., 2.654e-01, 4.601e-01,\n",
       "        1.189e-01],\n",
       "       [2.057e+01, 1.777e+01, 1.329e+02, ..., 1.860e-01, 2.750e-01,\n",
       "        8.902e-02],\n",
       "       [1.969e+01, 2.125e+01, 1.300e+02, ..., 2.430e-01, 3.613e-01,\n",
       "        8.758e-02],\n",
       "       ...,\n",
       "       [1.660e+01, 2.808e+01, 1.083e+02, ..., 1.418e-01, 2.218e-01,\n",
       "        7.820e-02],\n",
       "       [2.060e+01, 2.933e+01, 1.401e+02, ..., 2.650e-01, 4.087e-01,\n",
       "        1.240e-01],\n",
       "       [7.760e+00, 2.454e+01, 4.792e+01, ..., 0.000e+00, 2.871e-01,\n",
       "        7.039e-02]])"
      ]
     },
     "execution_count": 10,
     "metadata": {},
     "output_type": "execute_result"
    }
   ],
   "source": [
    "features"
   ]
  },
  {
   "cell_type": "markdown",
   "id": "e639781c",
   "metadata": {},
   "source": [
    "## Type of label of 30 cell data\n",
    "### 0 represents malignant and 1 represents benign cell type "
   ]
  },
  {
   "cell_type": "code",
   "execution_count": 12,
   "id": "abec936d",
   "metadata": {},
   "outputs": [
    {
     "data": {
      "text/plain": [
       "array([0, 0, 0, 0, 0, 0, 0, 0, 0, 0, 0, 0, 0, 0, 0, 0, 0, 0, 0, 1, 1, 1,\n",
       "       0, 0, 0, 0, 0, 0, 0, 0, 0, 0, 0, 0, 0, 0, 0, 1, 0, 0, 0, 0, 0, 0,\n",
       "       0, 0, 1, 0, 1, 1, 1, 1, 1, 0, 0, 1, 0, 0, 1, 1, 1, 1, 0, 1, 0, 0,\n",
       "       1, 1, 1, 1, 0, 1, 0, 0, 1, 0, 1, 0, 0, 1, 1, 1, 0, 0, 1, 0, 0, 0,\n",
       "       1, 1, 1, 0, 1, 1, 0, 0, 1, 1, 1, 0, 0, 1, 1, 1, 1, 0, 1, 1, 0, 1,\n",
       "       1, 1, 1, 1, 1, 1, 1, 0, 0, 0, 1, 0, 0, 1, 1, 1, 0, 0, 1, 0, 1, 0,\n",
       "       0, 1, 0, 0, 1, 1, 0, 1, 1, 0, 1, 1, 1, 1, 0, 1, 1, 1, 1, 1, 1, 1,\n",
       "       1, 1, 0, 1, 1, 1, 1, 0, 0, 1, 0, 1, 1, 0, 0, 1, 1, 0, 0, 1, 1, 1,\n",
       "       1, 0, 1, 1, 0, 0, 0, 1, 0, 1, 0, 1, 1, 1, 0, 1, 1, 0, 0, 1, 0, 0,\n",
       "       0, 0, 1, 0, 0, 0, 1, 0, 1, 0, 1, 1, 0, 1, 0, 0, 0, 0, 1, 1, 0, 0,\n",
       "       1, 1, 1, 0, 1, 1, 1, 1, 1, 0, 0, 1, 1, 0, 1, 1, 0, 0, 1, 0, 1, 1,\n",
       "       1, 1, 0, 1, 1, 1, 1, 1, 0, 1, 0, 0, 0, 0, 0, 0, 0, 0, 0, 0, 0, 0,\n",
       "       0, 0, 1, 1, 1, 1, 1, 1, 0, 1, 0, 1, 1, 0, 1, 1, 0, 1, 0, 0, 1, 1,\n",
       "       1, 1, 1, 1, 1, 1, 1, 1, 1, 1, 1, 0, 1, 1, 0, 1, 0, 1, 1, 1, 1, 1,\n",
       "       1, 1, 1, 1, 1, 1, 1, 1, 1, 0, 1, 1, 1, 0, 1, 0, 1, 1, 1, 1, 0, 0,\n",
       "       0, 1, 1, 1, 1, 0, 1, 0, 1, 0, 1, 1, 1, 0, 1, 1, 1, 1, 1, 1, 1, 0,\n",
       "       0, 0, 1, 1, 1, 1, 1, 1, 1, 1, 1, 1, 1, 0, 0, 1, 0, 0, 0, 1, 0, 0,\n",
       "       1, 1, 1, 1, 1, 0, 1, 1, 1, 1, 1, 0, 1, 1, 1, 0, 1, 1, 0, 0, 1, 1,\n",
       "       1, 1, 1, 1, 0, 1, 1, 1, 1, 1, 1, 1, 0, 1, 1, 1, 1, 1, 0, 1, 1, 0,\n",
       "       1, 1, 1, 1, 1, 1, 1, 1, 1, 1, 1, 1, 0, 1, 0, 0, 1, 0, 1, 1, 1, 1,\n",
       "       1, 0, 1, 1, 0, 1, 0, 1, 1, 0, 1, 0, 1, 1, 1, 1, 1, 1, 1, 1, 0, 0,\n",
       "       1, 1, 1, 1, 1, 1, 0, 1, 1, 1, 1, 1, 1, 1, 1, 1, 1, 0, 1, 1, 1, 1,\n",
       "       1, 1, 1, 0, 1, 0, 1, 1, 0, 1, 1, 1, 1, 1, 0, 0, 1, 0, 1, 0, 1, 1,\n",
       "       1, 1, 1, 0, 1, 1, 0, 1, 0, 1, 0, 0, 1, 1, 1, 0, 1, 1, 1, 1, 1, 1,\n",
       "       1, 1, 1, 1, 1, 0, 1, 0, 0, 1, 1, 1, 1, 1, 1, 1, 1, 1, 1, 1, 1, 1,\n",
       "       1, 1, 1, 1, 1, 1, 1, 1, 1, 1, 1, 1, 0, 0, 0, 0, 0, 0, 1])"
      ]
     },
     "execution_count": 12,
     "metadata": {},
     "output_type": "execute_result"
    }
   ],
   "source": [
    "labels=dataset['target']\n",
    "labels "
   ]
  },
  {
   "cell_type": "code",
   "execution_count": 13,
   "id": "f805a699",
   "metadata": {},
   "outputs": [
    {
     "data": {
      "text/plain": [
       "array(['malignant', 'benign'], dtype='<U9')"
      ]
     },
     "execution_count": 13,
     "metadata": {},
     "output_type": "execute_result"
    }
   ],
   "source": [
    "dataset['target_names']"
   ]
  },
  {
   "cell_type": "code",
   "execution_count": 14,
   "id": "15dc4aeb",
   "metadata": {},
   "outputs": [
    {
     "data": {
      "text/plain": [
       "(569,)"
      ]
     },
     "execution_count": 14,
     "metadata": {},
     "output_type": "execute_result"
    }
   ],
   "source": [
    "labels.shape"
   ]
  },
  {
   "cell_type": "code",
   "execution_count": 34,
   "id": "914bff5f",
   "metadata": {},
   "outputs": [
    {
     "data": {
      "text/plain": [
       "array(['malignant', 'benign'], dtype='<U9')"
      ]
     },
     "execution_count": 34,
     "metadata": {},
     "output_type": "execute_result"
    }
   ],
   "source": [
    "dataset['target_names']"
   ]
  },
  {
   "cell_type": "code",
   "execution_count": 15,
   "id": "b9cbf4cb",
   "metadata": {},
   "outputs": [
    {
     "name": "stdout",
     "output_type": "stream",
     "text": [
      "[2.094e+01 2.356e+01 1.389e+02 1.364e+03 1.007e-01 1.606e-01 2.712e-01\n",
      " 1.310e-01 2.205e-01 5.898e-02 1.004e+00 8.208e-01 6.372e+00 1.379e+02\n",
      " 5.283e-03 3.908e-02 9.518e-02 1.864e-02 2.401e-02 5.002e-03 2.558e+01\n",
      " 2.700e+01 1.653e+02 2.010e+03 1.211e-01 3.172e-01 6.991e-01 2.105e-01\n",
      " 3.126e-01 7.849e-02]\n",
      "malignant\n"
     ]
    }
   ],
   "source": [
    "print(features[250])\n",
    "print(dataset['target_names'][labels[250]])"
   ]
  },
  {
   "cell_type": "markdown",
   "id": "a79d88e7",
   "metadata": {},
   "source": [
    "## Representation of dataset in form of DATAFRAME and shuffle data"
   ]
  },
  {
   "cell_type": "code",
   "execution_count": 16,
   "id": "c9702a3e",
   "metadata": {},
   "outputs": [],
   "source": [
    "import numpy as np\n",
    "import pandas as pd"
   ]
  },
  {
   "cell_type": "code",
   "execution_count": 19,
   "id": "0ee1b601",
   "metadata": {},
   "outputs": [],
   "source": [
    "df_feat=pd.DataFrame(features, columns=dataset['feature_names'])\n",
    "df_lab=pd.DataFrame(labels,columns=['labels'])\n",
    "df = pd.concat([df_feat, df_lab], axis=1)  ## concat features and label in a single data frame\n",
    "df = df.sample(frac = 1)  ## shuffling of data\n",
    "\n",
    "features = df.values[ : , : 30]\n",
    "labels = df.values[ : ,30: ]"
   ]
  },
  {
   "cell_type": "code",
   "execution_count": 20,
   "id": "6acf0870",
   "metadata": {},
   "outputs": [
    {
     "data": {
      "text/html": [
       "<div>\n",
       "<style scoped>\n",
       "    .dataframe tbody tr th:only-of-type {\n",
       "        vertical-align: middle;\n",
       "    }\n",
       "\n",
       "    .dataframe tbody tr th {\n",
       "        vertical-align: top;\n",
       "    }\n",
       "\n",
       "    .dataframe thead th {\n",
       "        text-align: right;\n",
       "    }\n",
       "</style>\n",
       "<table border=\"1\" class=\"dataframe\">\n",
       "  <thead>\n",
       "    <tr style=\"text-align: right;\">\n",
       "      <th></th>\n",
       "      <th>mean radius</th>\n",
       "      <th>mean texture</th>\n",
       "      <th>mean perimeter</th>\n",
       "      <th>mean area</th>\n",
       "      <th>mean smoothness</th>\n",
       "      <th>mean compactness</th>\n",
       "      <th>mean concavity</th>\n",
       "      <th>mean concave points</th>\n",
       "      <th>mean symmetry</th>\n",
       "      <th>mean fractal dimension</th>\n",
       "      <th>...</th>\n",
       "      <th>worst texture</th>\n",
       "      <th>worst perimeter</th>\n",
       "      <th>worst area</th>\n",
       "      <th>worst smoothness</th>\n",
       "      <th>worst compactness</th>\n",
       "      <th>worst concavity</th>\n",
       "      <th>worst concave points</th>\n",
       "      <th>worst symmetry</th>\n",
       "      <th>worst fractal dimension</th>\n",
       "      <th>labels</th>\n",
       "    </tr>\n",
       "  </thead>\n",
       "  <tbody>\n",
       "    <tr>\n",
       "      <th>178</th>\n",
       "      <td>13.010</td>\n",
       "      <td>22.22</td>\n",
       "      <td>82.01</td>\n",
       "      <td>526.4</td>\n",
       "      <td>0.06251</td>\n",
       "      <td>0.01938</td>\n",
       "      <td>0.001595</td>\n",
       "      <td>0.001852</td>\n",
       "      <td>0.1395</td>\n",
       "      <td>0.05234</td>\n",
       "      <td>...</td>\n",
       "      <td>29.02</td>\n",
       "      <td>88.18</td>\n",
       "      <td>608.8</td>\n",
       "      <td>0.08125</td>\n",
       "      <td>0.03432</td>\n",
       "      <td>0.007977</td>\n",
       "      <td>0.009259</td>\n",
       "      <td>0.2295</td>\n",
       "      <td>0.05843</td>\n",
       "      <td>1</td>\n",
       "    </tr>\n",
       "    <tr>\n",
       "      <th>233</th>\n",
       "      <td>20.510</td>\n",
       "      <td>27.81</td>\n",
       "      <td>134.40</td>\n",
       "      <td>1319.0</td>\n",
       "      <td>0.09159</td>\n",
       "      <td>0.10740</td>\n",
       "      <td>0.155400</td>\n",
       "      <td>0.083400</td>\n",
       "      <td>0.1448</td>\n",
       "      <td>0.05592</td>\n",
       "      <td>...</td>\n",
       "      <td>37.38</td>\n",
       "      <td>162.70</td>\n",
       "      <td>1872.0</td>\n",
       "      <td>0.12230</td>\n",
       "      <td>0.27610</td>\n",
       "      <td>0.414600</td>\n",
       "      <td>0.156300</td>\n",
       "      <td>0.2437</td>\n",
       "      <td>0.08328</td>\n",
       "      <td>0</td>\n",
       "    </tr>\n",
       "    <tr>\n",
       "      <th>187</th>\n",
       "      <td>11.710</td>\n",
       "      <td>17.19</td>\n",
       "      <td>74.68</td>\n",
       "      <td>420.3</td>\n",
       "      <td>0.09774</td>\n",
       "      <td>0.06141</td>\n",
       "      <td>0.038090</td>\n",
       "      <td>0.032390</td>\n",
       "      <td>0.1516</td>\n",
       "      <td>0.06095</td>\n",
       "      <td>...</td>\n",
       "      <td>21.39</td>\n",
       "      <td>84.42</td>\n",
       "      <td>521.5</td>\n",
       "      <td>0.13230</td>\n",
       "      <td>0.10400</td>\n",
       "      <td>0.152100</td>\n",
       "      <td>0.109900</td>\n",
       "      <td>0.2572</td>\n",
       "      <td>0.07097</td>\n",
       "      <td>1</td>\n",
       "    </tr>\n",
       "    <tr>\n",
       "      <th>38</th>\n",
       "      <td>14.990</td>\n",
       "      <td>25.20</td>\n",
       "      <td>95.54</td>\n",
       "      <td>698.8</td>\n",
       "      <td>0.09387</td>\n",
       "      <td>0.05131</td>\n",
       "      <td>0.023980</td>\n",
       "      <td>0.028990</td>\n",
       "      <td>0.1565</td>\n",
       "      <td>0.05504</td>\n",
       "      <td>...</td>\n",
       "      <td>25.20</td>\n",
       "      <td>95.54</td>\n",
       "      <td>698.8</td>\n",
       "      <td>0.09387</td>\n",
       "      <td>0.05131</td>\n",
       "      <td>0.023980</td>\n",
       "      <td>0.028990</td>\n",
       "      <td>0.1565</td>\n",
       "      <td>0.05504</td>\n",
       "      <td>0</td>\n",
       "    </tr>\n",
       "    <tr>\n",
       "      <th>97</th>\n",
       "      <td>9.787</td>\n",
       "      <td>19.94</td>\n",
       "      <td>62.11</td>\n",
       "      <td>294.5</td>\n",
       "      <td>0.10240</td>\n",
       "      <td>0.05301</td>\n",
       "      <td>0.006829</td>\n",
       "      <td>0.007937</td>\n",
       "      <td>0.1350</td>\n",
       "      <td>0.06890</td>\n",
       "      <td>...</td>\n",
       "      <td>26.29</td>\n",
       "      <td>68.81</td>\n",
       "      <td>366.1</td>\n",
       "      <td>0.13160</td>\n",
       "      <td>0.09473</td>\n",
       "      <td>0.020490</td>\n",
       "      <td>0.023810</td>\n",
       "      <td>0.1934</td>\n",
       "      <td>0.08988</td>\n",
       "      <td>1</td>\n",
       "    </tr>\n",
       "    <tr>\n",
       "      <th>...</th>\n",
       "      <td>...</td>\n",
       "      <td>...</td>\n",
       "      <td>...</td>\n",
       "      <td>...</td>\n",
       "      <td>...</td>\n",
       "      <td>...</td>\n",
       "      <td>...</td>\n",
       "      <td>...</td>\n",
       "      <td>...</td>\n",
       "      <td>...</td>\n",
       "      <td>...</td>\n",
       "      <td>...</td>\n",
       "      <td>...</td>\n",
       "      <td>...</td>\n",
       "      <td>...</td>\n",
       "      <td>...</td>\n",
       "      <td>...</td>\n",
       "      <td>...</td>\n",
       "      <td>...</td>\n",
       "      <td>...</td>\n",
       "      <td>...</td>\n",
       "    </tr>\n",
       "    <tr>\n",
       "      <th>13</th>\n",
       "      <td>15.850</td>\n",
       "      <td>23.95</td>\n",
       "      <td>103.70</td>\n",
       "      <td>782.7</td>\n",
       "      <td>0.08401</td>\n",
       "      <td>0.10020</td>\n",
       "      <td>0.099380</td>\n",
       "      <td>0.053640</td>\n",
       "      <td>0.1847</td>\n",
       "      <td>0.05338</td>\n",
       "      <td>...</td>\n",
       "      <td>27.66</td>\n",
       "      <td>112.00</td>\n",
       "      <td>876.5</td>\n",
       "      <td>0.11310</td>\n",
       "      <td>0.19240</td>\n",
       "      <td>0.232200</td>\n",
       "      <td>0.111900</td>\n",
       "      <td>0.2809</td>\n",
       "      <td>0.06287</td>\n",
       "      <td>0</td>\n",
       "    </tr>\n",
       "    <tr>\n",
       "      <th>125</th>\n",
       "      <td>13.850</td>\n",
       "      <td>17.21</td>\n",
       "      <td>88.44</td>\n",
       "      <td>588.7</td>\n",
       "      <td>0.08785</td>\n",
       "      <td>0.06136</td>\n",
       "      <td>0.014200</td>\n",
       "      <td>0.011410</td>\n",
       "      <td>0.1614</td>\n",
       "      <td>0.05890</td>\n",
       "      <td>...</td>\n",
       "      <td>23.58</td>\n",
       "      <td>100.30</td>\n",
       "      <td>725.9</td>\n",
       "      <td>0.11570</td>\n",
       "      <td>0.13500</td>\n",
       "      <td>0.081150</td>\n",
       "      <td>0.051040</td>\n",
       "      <td>0.2364</td>\n",
       "      <td>0.07182</td>\n",
       "      <td>1</td>\n",
       "    </tr>\n",
       "    <tr>\n",
       "      <th>338</th>\n",
       "      <td>10.050</td>\n",
       "      <td>17.53</td>\n",
       "      <td>64.41</td>\n",
       "      <td>310.8</td>\n",
       "      <td>0.10070</td>\n",
       "      <td>0.07326</td>\n",
       "      <td>0.025110</td>\n",
       "      <td>0.017750</td>\n",
       "      <td>0.1890</td>\n",
       "      <td>0.06331</td>\n",
       "      <td>...</td>\n",
       "      <td>26.84</td>\n",
       "      <td>71.98</td>\n",
       "      <td>384.0</td>\n",
       "      <td>0.14020</td>\n",
       "      <td>0.14020</td>\n",
       "      <td>0.105500</td>\n",
       "      <td>0.064990</td>\n",
       "      <td>0.2894</td>\n",
       "      <td>0.07664</td>\n",
       "      <td>1</td>\n",
       "    </tr>\n",
       "    <tr>\n",
       "      <th>99</th>\n",
       "      <td>14.420</td>\n",
       "      <td>19.77</td>\n",
       "      <td>94.48</td>\n",
       "      <td>642.5</td>\n",
       "      <td>0.09752</td>\n",
       "      <td>0.11410</td>\n",
       "      <td>0.093880</td>\n",
       "      <td>0.058390</td>\n",
       "      <td>0.1879</td>\n",
       "      <td>0.06390</td>\n",
       "      <td>...</td>\n",
       "      <td>30.86</td>\n",
       "      <td>109.50</td>\n",
       "      <td>826.4</td>\n",
       "      <td>0.14310</td>\n",
       "      <td>0.30260</td>\n",
       "      <td>0.319400</td>\n",
       "      <td>0.156500</td>\n",
       "      <td>0.2718</td>\n",
       "      <td>0.09353</td>\n",
       "      <td>0</td>\n",
       "    </tr>\n",
       "    <tr>\n",
       "      <th>472</th>\n",
       "      <td>14.920</td>\n",
       "      <td>14.93</td>\n",
       "      <td>96.45</td>\n",
       "      <td>686.9</td>\n",
       "      <td>0.08098</td>\n",
       "      <td>0.08549</td>\n",
       "      <td>0.055390</td>\n",
       "      <td>0.032210</td>\n",
       "      <td>0.1687</td>\n",
       "      <td>0.05669</td>\n",
       "      <td>...</td>\n",
       "      <td>18.22</td>\n",
       "      <td>112.00</td>\n",
       "      <td>906.6</td>\n",
       "      <td>0.10650</td>\n",
       "      <td>0.27910</td>\n",
       "      <td>0.315100</td>\n",
       "      <td>0.114700</td>\n",
       "      <td>0.2688</td>\n",
       "      <td>0.08273</td>\n",
       "      <td>1</td>\n",
       "    </tr>\n",
       "  </tbody>\n",
       "</table>\n",
       "<p>569 rows × 31 columns</p>\n",
       "</div>"
      ],
      "text/plain": [
       "     mean radius  mean texture  mean perimeter  mean area  mean smoothness  \\\n",
       "178       13.010         22.22           82.01      526.4          0.06251   \n",
       "233       20.510         27.81          134.40     1319.0          0.09159   \n",
       "187       11.710         17.19           74.68      420.3          0.09774   \n",
       "38        14.990         25.20           95.54      698.8          0.09387   \n",
       "97         9.787         19.94           62.11      294.5          0.10240   \n",
       "..           ...           ...             ...        ...              ...   \n",
       "13        15.850         23.95          103.70      782.7          0.08401   \n",
       "125       13.850         17.21           88.44      588.7          0.08785   \n",
       "338       10.050         17.53           64.41      310.8          0.10070   \n",
       "99        14.420         19.77           94.48      642.5          0.09752   \n",
       "472       14.920         14.93           96.45      686.9          0.08098   \n",
       "\n",
       "     mean compactness  mean concavity  mean concave points  mean symmetry  \\\n",
       "178           0.01938        0.001595             0.001852         0.1395   \n",
       "233           0.10740        0.155400             0.083400         0.1448   \n",
       "187           0.06141        0.038090             0.032390         0.1516   \n",
       "38            0.05131        0.023980             0.028990         0.1565   \n",
       "97            0.05301        0.006829             0.007937         0.1350   \n",
       "..                ...             ...                  ...            ...   \n",
       "13            0.10020        0.099380             0.053640         0.1847   \n",
       "125           0.06136        0.014200             0.011410         0.1614   \n",
       "338           0.07326        0.025110             0.017750         0.1890   \n",
       "99            0.11410        0.093880             0.058390         0.1879   \n",
       "472           0.08549        0.055390             0.032210         0.1687   \n",
       "\n",
       "     mean fractal dimension  ...  worst texture  worst perimeter  worst area  \\\n",
       "178                 0.05234  ...          29.02            88.18       608.8   \n",
       "233                 0.05592  ...          37.38           162.70      1872.0   \n",
       "187                 0.06095  ...          21.39            84.42       521.5   \n",
       "38                  0.05504  ...          25.20            95.54       698.8   \n",
       "97                  0.06890  ...          26.29            68.81       366.1   \n",
       "..                      ...  ...            ...              ...         ...   \n",
       "13                  0.05338  ...          27.66           112.00       876.5   \n",
       "125                 0.05890  ...          23.58           100.30       725.9   \n",
       "338                 0.06331  ...          26.84            71.98       384.0   \n",
       "99                  0.06390  ...          30.86           109.50       826.4   \n",
       "472                 0.05669  ...          18.22           112.00       906.6   \n",
       "\n",
       "     worst smoothness  worst compactness  worst concavity  \\\n",
       "178           0.08125            0.03432         0.007977   \n",
       "233           0.12230            0.27610         0.414600   \n",
       "187           0.13230            0.10400         0.152100   \n",
       "38            0.09387            0.05131         0.023980   \n",
       "97            0.13160            0.09473         0.020490   \n",
       "..                ...                ...              ...   \n",
       "13            0.11310            0.19240         0.232200   \n",
       "125           0.11570            0.13500         0.081150   \n",
       "338           0.14020            0.14020         0.105500   \n",
       "99            0.14310            0.30260         0.319400   \n",
       "472           0.10650            0.27910         0.315100   \n",
       "\n",
       "     worst concave points  worst symmetry  worst fractal dimension  labels  \n",
       "178              0.009259          0.2295                  0.05843       1  \n",
       "233              0.156300          0.2437                  0.08328       0  \n",
       "187              0.109900          0.2572                  0.07097       1  \n",
       "38               0.028990          0.1565                  0.05504       0  \n",
       "97               0.023810          0.1934                  0.08988       1  \n",
       "..                    ...             ...                      ...     ...  \n",
       "13               0.111900          0.2809                  0.06287       0  \n",
       "125              0.051040          0.2364                  0.07182       1  \n",
       "338              0.064990          0.2894                  0.07664       1  \n",
       "99               0.156500          0.2718                  0.09353       0  \n",
       "472              0.114700          0.2688                  0.08273       1  \n",
       "\n",
       "[569 rows x 31 columns]"
      ]
     },
     "execution_count": 20,
     "metadata": {},
     "output_type": "execute_result"
    }
   ],
   "source": [
    "df"
   ]
  },
  {
   "cell_type": "code",
   "execution_count": 21,
   "id": "1f649232",
   "metadata": {},
   "outputs": [
    {
     "data": {
      "text/html": [
       "<div>\n",
       "<style scoped>\n",
       "    .dataframe tbody tr th:only-of-type {\n",
       "        vertical-align: middle;\n",
       "    }\n",
       "\n",
       "    .dataframe tbody tr th {\n",
       "        vertical-align: top;\n",
       "    }\n",
       "\n",
       "    .dataframe thead th {\n",
       "        text-align: right;\n",
       "    }\n",
       "</style>\n",
       "<table border=\"1\" class=\"dataframe\">\n",
       "  <thead>\n",
       "    <tr style=\"text-align: right;\">\n",
       "      <th></th>\n",
       "      <th>labels</th>\n",
       "    </tr>\n",
       "  </thead>\n",
       "  <tbody>\n",
       "    <tr>\n",
       "      <th>0</th>\n",
       "      <td>0</td>\n",
       "    </tr>\n",
       "    <tr>\n",
       "      <th>1</th>\n",
       "      <td>0</td>\n",
       "    </tr>\n",
       "    <tr>\n",
       "      <th>2</th>\n",
       "      <td>0</td>\n",
       "    </tr>\n",
       "    <tr>\n",
       "      <th>3</th>\n",
       "      <td>0</td>\n",
       "    </tr>\n",
       "    <tr>\n",
       "      <th>4</th>\n",
       "      <td>0</td>\n",
       "    </tr>\n",
       "    <tr>\n",
       "      <th>...</th>\n",
       "      <td>...</td>\n",
       "    </tr>\n",
       "    <tr>\n",
       "      <th>564</th>\n",
       "      <td>0</td>\n",
       "    </tr>\n",
       "    <tr>\n",
       "      <th>565</th>\n",
       "      <td>0</td>\n",
       "    </tr>\n",
       "    <tr>\n",
       "      <th>566</th>\n",
       "      <td>0</td>\n",
       "    </tr>\n",
       "    <tr>\n",
       "      <th>567</th>\n",
       "      <td>0</td>\n",
       "    </tr>\n",
       "    <tr>\n",
       "      <th>568</th>\n",
       "      <td>1</td>\n",
       "    </tr>\n",
       "  </tbody>\n",
       "</table>\n",
       "<p>569 rows × 1 columns</p>\n",
       "</div>"
      ],
      "text/plain": [
       "     labels\n",
       "0         0\n",
       "1         0\n",
       "2         0\n",
       "3         0\n",
       "4         0\n",
       "..      ...\n",
       "564       0\n",
       "565       0\n",
       "566       0\n",
       "567       0\n",
       "568       1\n",
       "\n",
       "[569 rows x 1 columns]"
      ]
     },
     "execution_count": 21,
     "metadata": {},
     "output_type": "execute_result"
    }
   ],
   "source": [
    "df_lab"
   ]
  },
  {
   "cell_type": "markdown",
   "id": "13920961",
   "metadata": {},
   "source": [
    "## Standardization of dataset"
   ]
  },
  {
   "cell_type": "code",
   "execution_count": 22,
   "id": "40347382",
   "metadata": {},
   "outputs": [],
   "source": [
    "from sklearn.preprocessing import StandardScaler\n",
    "scale = StandardScaler()\n",
    "features = scale.fit_transform(features)"
   ]
  },
  {
   "cell_type": "code",
   "execution_count": 23,
   "id": "0c65fc1b",
   "metadata": {},
   "outputs": [
    {
     "data": {
      "text/plain": [
       "array([[-3.17326715e-01,  6.81912463e-01, -4.10214580e-01, ...,\n",
       "        -1.60407975e+00, -9.79979846e-01, -1.41397987e+00],\n",
       "       [ 1.81277976e+00,  1.98274299e+00,  1.74774001e+00, ...,\n",
       "         6.34854353e-01, -7.50254999e-01, -3.68968057e-02],\n",
       "       [-6.86545170e-01, -4.88602302e-01, -7.12138747e-01, ...,\n",
       "        -7.16597659e-02, -5.31854616e-01, -7.19065519e-01],\n",
       "       ...,\n",
       "       [-1.15800874e+00, -4.09482019e-01, -1.13516210e+00, ...,\n",
       "        -7.55486254e-01, -1.09292595e-02, -4.04857834e-01],\n",
       "       [ 8.31333012e-02,  1.11781017e-01,  1.03427217e-01, ...,\n",
       "         6.37899672e-01, -2.95658647e-01,  5.31115323e-01],\n",
       "       [ 2.25140399e-01, -1.01451947e+00,  1.84571912e-01, ...,\n",
       "         1.42790160e-03, -3.44192065e-01, -6.73755053e-02]])"
      ]
     },
     "execution_count": 23,
     "metadata": {},
     "output_type": "execute_result"
    }
   ],
   "source": [
    "features"
   ]
  },
  {
   "cell_type": "markdown",
   "id": "c789a82b",
   "metadata": {},
   "source": [
    "## Data Division"
   ]
  },
  {
   "cell_type": "code",
   "execution_count": 24,
   "id": "354467ff",
   "metadata": {},
   "outputs": [],
   "source": [
    "#450 Training\n",
    "X_train = features[:450]\n",
    "Y_train = labels[:450]\n",
    "\n",
    "#60 Validation\n",
    "X_val = features[450:510]\n",
    "Y_val = labels[450:510]\n",
    "\n",
    "#59 Testing\n",
    "X_test = features[510:]\n",
    "Y_test = labels[510:]"
   ]
  },
  {
   "cell_type": "code",
   "execution_count": null,
   "id": "feb0372e",
   "metadata": {},
   "outputs": [],
   "source": []
  },
  {
   "cell_type": "code",
   "execution_count": 26,
   "id": "323f66d5",
   "metadata": {},
   "outputs": [],
   "source": [
    "from keras.models import Sequential\n",
    "from keras.layers import Dense"
   ]
  },
  {
   "cell_type": "markdown",
   "id": "128934cb",
   "metadata": {},
   "source": [
    "## Creating Neural Network (Deep Learning Model)"
   ]
  },
  {
   "cell_type": "code",
   "execution_count": 27,
   "id": "f3226692",
   "metadata": {},
   "outputs": [],
   "source": [
    "model = Sequential()\n",
    "\n",
    "model.add(Dense(45, activation = 'relu', input_dim = 30))\n",
    "model.add(Dense(30, activation = 'relu'))\n",
    "model.add(Dense(15, activation = 'relu'))\n",
    "model.add(Dense(8, activation = 'sigmoid'))\n",
    "model.add(Dense(1, activation = 'sigmoid'))\n",
    "\n",
    "model.compile( loss = 'binary_crossentropy' , optimizer = 'adam' , metrics = ['accuracy'])"
   ]
  },
  {
   "cell_type": "code",
   "execution_count": 29,
   "id": "e3d156c0",
   "metadata": {},
   "outputs": [
    {
     "name": "stdout",
     "output_type": "stream",
     "text": [
      "Epoch 1/5\n",
      "225/225 [==============================] - 1s 3ms/step - loss: 0.4463 - accuracy: 0.8800 - val_loss: 0.2899 - val_accuracy: 0.9333\n",
      "Epoch 2/5\n",
      "225/225 [==============================] - 0s 1ms/step - loss: 0.2016 - accuracy: 0.9711 - val_loss: 0.2032 - val_accuracy: 0.9667\n",
      "Epoch 3/5\n",
      "225/225 [==============================] - 0s 1ms/step - loss: 0.1518 - accuracy: 0.9778 - val_loss: 0.1729 - val_accuracy: 0.9667\n",
      "Epoch 4/5\n",
      "225/225 [==============================] - 0s 1ms/step - loss: 0.1236 - accuracy: 0.9800 - val_loss: 0.1700 - val_accuracy: 0.9667\n",
      "Epoch 5/5\n",
      "225/225 [==============================] - 0s 1ms/step - loss: 0.1065 - accuracy: 0.9844 - val_loss: 0.1345 - val_accuracy: 0.9667\n"
     ]
    },
    {
     "data": {
      "text/plain": [
       "<keras.callbacks.History at 0x20e72376790>"
      ]
     },
     "execution_count": 29,
     "metadata": {},
     "output_type": "execute_result"
    }
   ],
   "source": [
    "model.fit( X_train , Y_train, epochs = 5, batch_size = 2, validation_data = (X_val, Y_val))"
   ]
  },
  {
   "cell_type": "markdown",
   "id": "4499cb00",
   "metadata": {},
   "source": [
    "## Testing Accuracy and loss of testing data"
   ]
  },
  {
   "cell_type": "code",
   "execution_count": 30,
   "id": "8742774c",
   "metadata": {},
   "outputs": [
    {
     "name": "stdout",
     "output_type": "stream",
     "text": [
      "2/2 [==============================] - 0s 2ms/step - loss: 0.0899 - accuracy: 0.9831\n"
     ]
    },
    {
     "data": {
      "text/plain": [
       "[0.08987893909215927, 0.9830508232116699]"
      ]
     },
     "execution_count": 30,
     "metadata": {},
     "output_type": "execute_result"
    }
   ],
   "source": [
    "model.evaluate(X_test , Y_test)"
   ]
  },
  {
   "cell_type": "markdown",
   "id": "5258c730",
   "metadata": {},
   "source": [
    "## Testing Accuracy and loss of validation data"
   ]
  },
  {
   "cell_type": "code",
   "execution_count": 31,
   "id": "58cb7cb7",
   "metadata": {},
   "outputs": [
    {
     "name": "stdout",
     "output_type": "stream",
     "text": [
      "2/2 [==============================] - 0s 3ms/step - loss: 0.1345 - accuracy: 0.9667\n"
     ]
    },
    {
     "data": {
      "text/plain": [
       "[0.13454142212867737, 0.9666666388511658]"
      ]
     },
     "execution_count": 31,
     "metadata": {},
     "output_type": "execute_result"
    }
   ],
   "source": [
    "model.evaluate(X_val , Y_val)"
   ]
  },
  {
   "cell_type": "markdown",
   "id": "3d5e39ef",
   "metadata": {},
   "source": [
    "## Testing model using 10 input test data"
   ]
  },
  {
   "cell_type": "code",
   "execution_count": 33,
   "id": "7a8bb150",
   "metadata": {},
   "outputs": [
    {
     "name": "stdout",
     "output_type": "stream",
     "text": [
      "Prediction : Malignant\n",
      "Actual : Melignant\n",
      "***********************\n",
      "Prediction : Banign\n",
      "Actual : Banign\n",
      "***********************\n",
      "Prediction : Banign\n",
      "Actual : Banign\n",
      "***********************\n",
      "Prediction : Banign\n",
      "Actual : Banign\n",
      "***********************\n",
      "Prediction : Banign\n",
      "Actual : Banign\n",
      "***********************\n",
      "Prediction : Banign\n",
      "Actual : Banign\n",
      "***********************\n",
      "Prediction : Banign\n",
      "Actual : Banign\n",
      "***********************\n",
      "Prediction : Malignant\n",
      "Actual : Melignant\n",
      "***********************\n",
      "Prediction : Malignant\n",
      "Actual : Melignant\n",
      "***********************\n",
      "Prediction : Malignant\n",
      "Actual : Melignant\n",
      "***********************\n"
     ]
    }
   ],
   "source": [
    "for i in range(10):\n",
    "  sample = X_test[i]\n",
    "  sample = np.reshape(sample, (1,30))\n",
    "\n",
    "  if (model.predict(sample)[0][0] > 0.5):\n",
    "    print(\"Prediction : Banign\")\n",
    "  else:\n",
    "    print(\"Prediction : Malignant\")\n",
    "\n",
    "  if (Y_test[i] == 1):\n",
    "    print(\"Actual : Banign\")\n",
    "  else:\n",
    "    print(\"Actual : Melignant\")\n",
    "  print(\"***********************\")"
   ]
  },
  {
   "cell_type": "code",
   "execution_count": null,
   "id": "6a61cb45",
   "metadata": {},
   "outputs": [],
   "source": []
  },
  {
   "cell_type": "code",
   "execution_count": null,
   "id": "a0329b06",
   "metadata": {},
   "outputs": [],
   "source": []
  }
 ],
 "metadata": {
  "kernelspec": {
   "display_name": "Python 3",
   "language": "python",
   "name": "python3"
  },
  "language_info": {
   "codemirror_mode": {
    "name": "ipython",
    "version": 3
   },
   "file_extension": ".py",
   "mimetype": "text/x-python",
   "name": "python",
   "nbconvert_exporter": "python",
   "pygments_lexer": "ipython3",
   "version": "3.8.8"
  }
 },
 "nbformat": 4,
 "nbformat_minor": 5
}
